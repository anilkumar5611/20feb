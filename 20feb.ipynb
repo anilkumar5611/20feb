{
 "cells": [
  {
   "cell_type": "code",
   "execution_count": null,
   "id": "3e0bc66b",
   "metadata": {},
   "outputs": [],
   "source": [
    "# Q1. Explain GET and POST methods.\n",
    "# GET Method:\n",
    "\n",
    "# The GET method is used to request data from a specified resource.\n",
    "# It sends data in the URL, appended to the end of the URL after a question mark (?).\n",
    "# GET requests can be cached, bookmarked, and are visible in the browser's address bar.\n",
    "# They are limited in terms of the amount of data they can handle.\n",
    "# POST Method:\n",
    "\n",
    "# The POST method is used to submit data to be processed to a specified resource.\n",
    "# Data is sent in the HTTP request body, not visible in the URL.\n",
    "# POST requests are not cached, and they do not remain in the browser history.\n",
    "# They are suitable for sending large amounts of data.\n"
   ]
  },
  {
   "cell_type": "code",
   "execution_count": null,
   "id": "502c00ff",
   "metadata": {},
   "outputs": [],
   "source": [
    "# Q2. Why is request used in Flask?\n",
    "# The request object in Flask is used to access incoming request data such as form data, query parameters, files, and more. It provides a convenient way to interact with the data submitted in an HTTP request. Some common use cases include:\n",
    "\n",
    "# Accessing Form Data: Extracting data submitted through HTML forms in a POST request.\n",
    "# Query Parameters: Retrieving data from the query string in a GET request.\n",
    "# Handling File Uploads: Accessing files uploaded in a request.\n",
    "# Session Handling: Managing user sessions and cookies.\n",
    "# In summary, the request object is essential for handling and processing data sent by clients to the Flask server.\n",
    "\n"
   ]
  },
  {
   "cell_type": "code",
   "execution_count": null,
   "id": "5025fb2a",
   "metadata": {},
   "outputs": [],
   "source": [
    "# Q3. Why is redirect() used in Flask?\n",
    "# The redirect() function in Flask is used to redirect the client to a different URL. It is commonly used after processing a form submission or completing an action to redirect the user to another page. This can be useful for maintaining a clean and understandable URL structure, improving user experience, and separating concerns in a web application.\n",
    "\n",
    "from flask import Flask, redirect, url_for\n",
    "\n",
    "app = Flask(__name__)\n",
    "\n",
    "@app.route('/')\n",
    "def home():\n",
    "    return 'Home Page'\n",
    "\n",
    "@app.route('/redirect_example')\n",
    "def redirect_example():\n",
    "    # Redirecting to the home page\n",
    "    return redirect(url_for('home'))\n",
    "\n",
    "if __name__ == '__main__':\n",
    "    app.run()\n",
    "\n"
   ]
  },
  {
   "cell_type": "code",
   "execution_count": null,
   "id": "b9f946b2",
   "metadata": {},
   "outputs": [],
   "source": [
    "# Q4. What are templates in Flask? Why is the render_template() function used?\n",
    "# Templates in Flask:\n",
    "# Templates in Flask are files (usually HTML files) that contain placeholders for dynamic content. They allow developers to separate the HTML structure from the Python code, making it easier to manage and maintain the codebase. Flask uses the Jinja2 templating engine for rendering dynamic content in templates.\n",
    "\n",
    "# render_template() function:\n",
    "# The render_template() function in Flask is used to render templates by combining them with data. It takes the name of the template file and any data that should be passed to the template as keyword arguments. This function makes it easy to generate HTML dynamically based on the data provided by the Python code.\n",
    "\n",
    "from flask import Flask, render_template\n",
    "\n",
    "app = Flask(__name__)\n",
    "\n",
    "@app.route('/hello/<name>')\n",
    "def hello(name):\n",
    "    return render_template('hello_template.html', name=name)\n",
    "\n",
    "if __name__ == '__main__':\n",
    "    app.run()\n",
    "\n",
    "\n"
   ]
  },
  {
   "cell_type": "code",
   "execution_count": null,
   "id": "65ff1e78",
   "metadata": {},
   "outputs": [],
   "source": []
  },
  {
   "cell_type": "code",
   "execution_count": null,
   "id": "d6d9154d",
   "metadata": {},
   "outputs": [
    {
     "name": "stdout",
     "output_type": "stream",
     "text": [
      " * Serving Flask app '__main__'\n",
      " * Debug mode: off\n"
     ]
    },
    {
     "name": "stderr",
     "output_type": "stream",
     "text": [
      "WARNING: This is a development server. Do not use it in a production deployment. Use a production WSGI server instead.\n",
      " * Running on http://127.0.0.1:5000\n",
      "Press CTRL+C to quit\n"
     ]
    }
   ],
   "source": [
    "# Q5. Create a simple API. Use Postman to test it. Attach the screenshot of the output in the Jupyter Notebook.\n",
    "# python\n",
    "from flask import Flask, jsonify, request\n",
    "\n",
    "app = Flask(__name__)\n",
    "\n",
    "# Simple API endpoint\n",
    "@app.route('/api/greet', methods=['POST'])\n",
    "def greet():\n",
    "    data = request.get_json()  # Assuming the request contains JSON data\n",
    "    name = data.get('name', 'Guest')\n",
    "    greeting = f'Hello, {name}!'\n",
    "    return jsonify({'message': greeting})\n",
    "\n",
    "if __name__ == '__main__':\n",
    "    app.run()\n",
    "# To test this API, you can use Postman or any other API testing tool. Send a POST request to http://127.0.0.1:5000/api/greet with a JSON payload like {\"name\": \"John\"}.\n",
    "\n",
    "# Attach the screenshot of the output in the Jupyter Notebook:\n",
    "\n",
    "# Make sure to replace the placeholder values \n",
    "# with your actual data. The response should be\n",
    "# a JSON object with a greeting message based on the provided\n",
    "# name."
   ]
  },
  {
   "cell_type": "code",
   "execution_count": null,
   "id": "7a5b7a78",
   "metadata": {},
   "outputs": [],
   "source": []
  }
 ],
 "metadata": {
  "kernelspec": {
   "display_name": "Python 3 (ipykernel)",
   "language": "python",
   "name": "python3"
  },
  "language_info": {
   "codemirror_mode": {
    "name": "ipython",
    "version": 3
   },
   "file_extension": ".py",
   "mimetype": "text/x-python",
   "name": "python",
   "nbconvert_exporter": "python",
   "pygments_lexer": "ipython3",
   "version": "3.11.2"
  }
 },
 "nbformat": 4,
 "nbformat_minor": 5
}
